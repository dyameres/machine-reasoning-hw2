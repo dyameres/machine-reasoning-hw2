{
 "cells": [
  {
   "cell_type": "code",
   "execution_count": 1,
   "id": "5592ba8d-0e4e-4a34-8a5a-61ae1498ee20",
   "metadata": {},
   "outputs": [],
   "source": [
    "from Tree import Tree\n",
    "from evolve import mutate, crossover, tournament\n",
    "from random import randrange\n",
    "from csvReader import formatData\n",
    "import matplotlib.pyplot as plt"
   ]
  },
  {
   "cell_type": "code",
   "execution_count": 3,
   "id": "b983e80f-924c-455d-8350-3788e7b4cabb",
   "metadata": {},
   "outputs": [
    {
     "data": {
      "text/plain": [
       "<matplotlib.collections.PathCollection at 0x1492c10a4520>"
      ]
     },
     "execution_count": 3,
     "metadata": {},
     "output_type": "execute_result"
    },
    {
     "data": {
      "image/png": "[encoded data removed]",
      "text/plain": [
       "<Figure size 432x288 with 1 Axes>"
      ]
     },
     "metadata": {
      "needs_background": "light"
     },
     "output_type": "display_data"
    }
   ],
   "source": [
    "DATASET = 'hw2 datasets/dataset1.csv'\n",
    "\n",
    "trainData, testData = formatData(DATASET)\n",
    "\n",
    "fullData = trainData + testData\n",
    "xData = []\n",
    "yData = []\n",
    "for i in range(len(fullData)):\n",
    "    xData.append(fullData[i][0])\n",
    "    yData.append(fullData[i][1])\n",
    "    \n",
    "plt.scatter(xData, yData)"
   ]
  },
  {
   "cell_type": "code",
   "execution_count": null,
   "id": "99ef8fa3-4747-4ca7-a53d-1771c7955920",
   "metadata": {},
   "outputs": [],
   "source": []
  }
 ],
 "metadata": {
  "kernelspec": {
   "display_name": "Python 3.8",
   "language": "python",
   "name": "python3"
  },
  "language_info": {
   "codemirror_mode": {
    "name": "ipython",
    "version": 3
   },
   "file_extension": ".py",
   "mimetype": "text/x-python",
   "name": "python",
   "nbconvert_exporter": "python",
   "pygments_lexer": "ipython3",
   "version": "3.8.6"
  }
 },
 "nbformat": 4,
 "nbformat_minor": 5
}
